{
 "cells": [
  {
   "cell_type": "code",
   "execution_count": 8,
   "id": "f5c13412-c7d8-4ddd-900d-369d63496a60",
   "metadata": {},
   "outputs": [],
   "source": [
    "import pickle\n",
    "dfs = pickle.load(open('apple_vs_tesla_windex.pkl', 'rb'))"
   ]
  },
  {
   "cell_type": "code",
   "execution_count": 9,
   "id": "b8e8cf9b-ac56-4323-90dd-af7df44e64e8",
   "metadata": {},
   "outputs": [
    {
     "data": {
      "text/plain": [
       "{'tesla':                close  close_nasdaq_composite  close_sp_500  close_dow_jones\n",
       " Date                                                                       \n",
       " 2020-01-02  0.011927                0.232898      0.338239         0.484405\n",
       " 2020-01-03  0.014130                0.225444      0.330615         0.473379\n",
       " 2020-01-06  0.015604                0.230736      0.334404         0.476608\n",
       " 2020-01-07  0.018631                0.230434      0.331388         0.470966\n",
       " 2020-01-08  0.022618                0.236765      0.336648         0.478574\n",
       " ...              ...                     ...           ...              ...\n",
       " 2024-04-08  0.385859                0.980354      0.982777         0.956891\n",
       " 2024-04-09  0.395966                0.985852      0.985270         0.956461\n",
       " 2024-04-10  0.382698                0.971629      0.968939         0.936562\n",
       " 2024-04-11  0.390057                1.000000      0.981674         0.936448\n",
       " 2024-04-12  0.380858                0.972122      0.956599         0.914019\n",
       " \n",
       " [1077 rows x 4 columns],\n",
       " 'apple':                close  close_nasdaq_composite  close_sp_500  close_dow_jones\n",
       " Date                                                                       \n",
       " 2020-01-02  0.133751                0.232898      0.338239         0.484405\n",
       " 2020-01-03  0.128611                0.225444      0.330615         0.473379\n",
       " 2020-01-06  0.132783                0.230736      0.334404         0.476608\n",
       " 2020-01-07  0.130301                0.230434      0.331388         0.470966\n",
       " 2020-01-08  0.138751                0.236765      0.336648         0.478574\n",
       " ...              ...                     ...           ...              ...\n",
       " 2024-04-08  0.791152                0.980354      0.982777         0.956891\n",
       " 2024-04-09  0.799743                0.985852      0.985270         0.956461\n",
       " 2024-04-10  0.786435                0.971629      0.968939         0.936562\n",
       " 2024-04-11  0.837555                1.000000      0.981674         0.936448\n",
       " 2024-04-12  0.848188                0.972122      0.956599         0.914019\n",
       " \n",
       " [1077 rows x 4 columns]}"
      ]
     },
     "execution_count": 9,
     "metadata": {},
     "output_type": "execute_result"
    }
   ],
   "source": [
    "dfs"
   ]
  },
  {
   "cell_type": "code",
   "execution_count": null,
   "id": "b0479d64-b8eb-404c-bd42-a0c918ae59d2",
   "metadata": {},
   "outputs": [],
   "source": []
  }
 ],
 "metadata": {
  "kernelspec": {
   "display_name": "Python 3 (ipykernel)",
   "language": "python",
   "name": "python3"
  },
  "language_info": {
   "codemirror_mode": {
    "name": "ipython",
    "version": 3
   },
   "file_extension": ".py",
   "mimetype": "text/x-python",
   "name": "python",
   "nbconvert_exporter": "python",
   "pygments_lexer": "ipython3",
   "version": "3.8.18"
  }
 },
 "nbformat": 4,
 "nbformat_minor": 5
}
