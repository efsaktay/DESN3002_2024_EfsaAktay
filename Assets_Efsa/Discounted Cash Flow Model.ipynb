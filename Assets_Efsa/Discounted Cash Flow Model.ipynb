{
 "cells": [
  {
   "cell_type": "code",
   "execution_count": 6,
   "id": "c4650d9a-788b-43e1-b2ad-07746d039d2f",
   "metadata": {},
   "outputs": [
    {
     "data": {
      "application/javascript": [
       "google.colab.output.setIframeHeight(0, true, {maxHeight: 850})"
      ],
      "text/plain": [
       "<IPython.core.display.Javascript object>"
      ]
     },
     "metadata": {},
     "output_type": "display_data"
    },
    {
     "data": {
      "application/javascript": [
       "google.colab.output.setIframeHeight(0, true, {maxHeight: 850})"
      ],
      "text/plain": [
       "<IPython.core.display.Javascript object>"
      ]
     },
     "metadata": {},
     "output_type": "display_data"
    },
    {
     "name": "stdout",
     "output_type": "stream",
     "text": [
      "Requirement already satisfied: openturns in /Users/efsaaktay/anaconda3/envs/hku_202324S2/lib/python3.8/site-packages (1.19)\n",
      "Requirement already satisfied: dill in /Users/efsaaktay/anaconda3/envs/hku_202324S2/lib/python3.8/site-packages (from openturns) (0.3.8)\n",
      "Requirement already satisfied: psutil in /Users/efsaaktay/anaconda3/envs/hku_202324S2/lib/python3.8/site-packages (from openturns) (5.9.0)\n"
     ]
    }
   ],
   "source": [
    "# Pip Install req packages\n",
    "!pip install openturns\n",
    "### import packages\n",
    "import plotly.express as px\n",
    "from plotly.subplots import make_subplots\n",
    "import plotly.graph_objects as go\n",
    "import pandas as pd\n",
    "import numpy as np\n",
    "import datetime as dt\n",
    "import scipy.stats\n",
    "import sys\n",
    "import openturns as ot\n",
    "from IPython.display import display\n",
    "\n",
    "pd.options.display.max_columns=1000\n",
    "pd.options.display.max_rows= 200\n",
    "pd.options.display.float_format = '{:,.3f}'.format"
   ]
  },
  {
   "cell_type": "code",
   "execution_count": 5,
   "id": "69e2142d-d98e-430a-903c-9e3237be2005",
   "metadata": {},
   "outputs": [
    {
     "data": {
      "application/javascript": [
       "google.colab.output.setIframeHeight(0, true, {maxHeight: 850})"
      ],
      "text/plain": [
       "<IPython.core.display.Javascript object>"
      ]
     },
     "metadata": {},
     "output_type": "display_data"
    }
   ],
   "source": [
    "# Adjust scroll-in-the-scroll in the entire Notebook\n",
    "from IPython.display import Javascript\n",
    "def resize_colab_cell():\n",
    "  display(Javascript('google.colab.output.setIframeHeight(0, true, {maxHeight: 850})'))\n",
    "get_ipython().events.register('pre_run_cell', resize_colab_cell)"
   ]
  },
  {
   "cell_type": "code",
   "execution_count": 3,
   "id": "c8e9866d-24b6-4d36-b512-12355178815c",
   "metadata": {},
   "outputs": [
    {
     "data": {
      "application/javascript": [
       "google.colab.output.setIframeHeight(0, true, {maxHeight: 850})"
      ],
      "text/plain": [
       "<IPython.core.display.Javascript object>"
      ]
     },
     "metadata": {},
     "output_type": "display_data"
    }
   ],
   "source": [
    "def data_frame_flattener(df_data):\n",
    "    df=df_data.copy()\n",
    "    try:\n",
    "        df.columns=[' '.join(map(str,col)).strip() for col in df.columns.values]\n",
    "    except:\n",
    "        pass\n",
    "    return(df)\n",
    "\n",
    "def column_suffix_adder(df_data,\n",
    "                        list_of_columns_to_add_suffix_on,\n",
    "                        suffix):\n",
    "    \"\"\"Add specific siffix to specific columns\"\"\"\n",
    "    df=df_data.copy()\n",
    "    ### Add suffix or prefix to certain columns rename all columns\n",
    "    new_names = [(i,i+suffix) for i in df[list_of_columns_to_add_suffix_on].columns.values]\n",
    "    df.rename(columns = dict(new_names), inplace=True)\n",
    "    return(df)\n"
   ]
  },
  {
   "cell_type": "code",
   "execution_count": null,
   "id": "451ad539-28f2-4e1d-a9b5-4b33437ffe8d",
   "metadata": {},
   "outputs": [],
   "source": []
  }
 ],
 "metadata": {
  "kernelspec": {
   "display_name": "Python 3 (ipykernel)",
   "language": "python",
   "name": "python3"
  },
  "language_info": {
   "codemirror_mode": {
    "name": "ipython",
    "version": 3
   },
   "file_extension": ".py",
   "mimetype": "text/x-python",
   "name": "python",
   "nbconvert_exporter": "python",
   "pygments_lexer": "ipython3",
   "version": "3.8.18"
  }
 },
 "nbformat": 4,
 "nbformat_minor": 5
}
